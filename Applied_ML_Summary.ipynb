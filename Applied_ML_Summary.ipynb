{
  "nbformat": 4,
  "nbformat_minor": 0,
  "metadata": {
    "colab": {
      "name": "Applied_ML_Summary.ipynb",
      "provenance": [],
      "authorship_tag": "ABX9TyMSzrF9/TBgxLzoLRpUblhz",
      "include_colab_link": true
    },
    "kernelspec": {
      "name": "python3",
      "display_name": "Python 3"
    }
  },
  "cells": [
    {
      "cell_type": "markdown",
      "metadata": {
        "id": "view-in-github",
        "colab_type": "text"
      },
      "source": [
        "<a href=\"https://colab.research.google.com/github/AurelNeff/Software/blob/master/Applied_ML_Summary.ipynb\" target=\"_parent\"><img src=\"https://colab.research.google.com/assets/colab-badge.svg\" alt=\"Open In Colab\"/></a>"
      ]
    },
    {
      "cell_type": "markdown",
      "metadata": {
        "id": "TYNg_TNpv57F",
        "colab_type": "text"
      },
      "source": [
        "# Lecture 1 - Introduction\n",
        "Introduction to Numpy, Recap of Python"
      ]
    },
    {
      "cell_type": "code",
      "metadata": {
        "id": "8taxjq36v7kP",
        "colab_type": "code",
        "colab": {}
      },
      "source": [
        "#Imports\n",
        "import numpy as np\n"
      ],
      "execution_count": 2,
      "outputs": []
    },
    {
      "cell_type": "code",
      "metadata": {
        "id": "yvXhF2KR5Aas",
        "colab_type": "code",
        "colab": {}
      },
      "source": [
        "# 1.1 Python commands\n",
        "myLst =[1,2,3, 'a', 'b', 'v']\n",
        "myLst.append('newentry')\n",
        "myLst.extend(['d','e','f'])\n",
        "myLst.pop()\n",
        "myLst.remove('a')\n",
        "#Set can only have every value once!\n",
        "#Which means, that setA & setB --> only the shared value is printed.\n",
        "#If we substract one from each other, all values from set 1 are shown and if some of them are in set 2 they get skipped.\n",
        "#Dictionary is nice, class style.\n",
        "\n",
        "#Class handling\n",
        "class Dogo:\n",
        "  def __init__ (self, name):\n",
        "    self.name = name\n",
        "  \n",
        "  def make_sound(self):\n",
        "    print(\"Ruff\")\n",
        "\n",
        "class Catty:\n",
        "  def __init__ (self, name):\n",
        "    self.name = name\n",
        "  \n",
        "  def make_sound(self):\n",
        "    print(\"Meow\")\n",
        "\n",
        "\n",
        "animal1 = Dogo(name='Pluto')\n",
        "animal1.make_sound()\n",
        "animal2 = Catty(name = 'Mika')\n",
        "animal2.make_sound()\n",
        "\n",
        "# 1.2 Introduction to Numpy\n",
        "a = np.array([1,2,3])\n",
        "a.dtype\n",
        "a.shape\n",
        "a.ndim\n",
        "a.size\n",
        "# type (A) = numpy array : a.type = integer\n",
        "#filling an array with a certain value:\n",
        "threes = np.full((4, 2), fill_value=3)\n",
        "#Fill an array with a step size\n",
        "r1 = np.arange(10,30,5)\n",
        "#If fixed numper of elements is required, we prefer linspace\n",
        "r2 = np.linspace(10,30,8)\n",
        "#Basic operations are performed element wise, also between multiple arrays\n",
        "a.min() #axis = 0 = row | axis = 1 = columns\n",
        "a.max()\n",
        "a.mean()\n",
        "a.std()\n",
        "A = np.array([1,2,3,4,5,6,7,8])\n",
        "print(np.reshape(A, (2,4)))\n",
        "#More stuff about sticking arrays with:\n",
        "A = np.random.uniform(low=0, high=10, size=(2, 2))\n",
        "B = np.random.uniform(low=0, high=1., size=(2, 2))\n",
        "print(np.vstack((A,B)))\n",
        "print(np.hstack((A,B))) #Stacking along second axis\n",
        "#np.concatenate allows to specify the axis explicitly\n",
        "#Splitting can be done by hsplit\n",
        "#Be careful! Numpy differentiates between copy and view! b=a is a shallow copy"
      ],
      "execution_count": null,
      "outputs": []
    },
    {
      "cell_type": "code",
      "metadata": {
        "id": "fGBBerqG7t6I",
        "colab_type": "code",
        "colab": {
          "base_uri": "https://localhost:8080/",
          "height": 160
        },
        "outputId": "46617b75-adbb-458b-9d4d-5f066af494e0"
      },
      "source": [
        ""
      ],
      "execution_count": 15,
      "outputs": [
        {
          "output_type": "stream",
          "text": [
            "[[1 2 3 4]\n",
            " [5 6 7 8]]\n",
            "[[2.60072299 5.92168921]\n",
            " [8.32158471 2.92797708]\n",
            " [0.43497899 0.54567555]\n",
            " [0.79736775 0.91202932]]\n",
            "[[2.60072299 5.92168921 0.43497899 0.54567555]\n",
            " [8.32158471 2.92797708 0.79736775 0.91202932]]\n"
          ],
          "name": "stdout"
        }
      ]
    }
  ]
}